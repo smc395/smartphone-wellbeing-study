{
 "cells": [
  {
   "cell_type": "code",
   "execution_count": 1,
   "id": "18f95e69",
   "metadata": {},
   "outputs": [],
   "source": [
    "# import packages for analysis\n",
    "import numpy as np\n",
    "import pandas as pd\n",
    "import seaborn as sns\n",
    "from scipy import stats\n"
   ]
  },
  {
   "cell_type": "code",
   "execution_count": null,
   "id": "82b44072",
   "metadata": {},
   "outputs": [],
   "source": [
    "# import data\n",
    "df = pd.read_csv('wellbeing_survey_responses.csv')\n",
    "df.dropna(subset=['age'],inplace=True) #there is one row with all blanks including the age"
   ]
  },
  {
   "cell_type": "code",
   "execution_count": 3,
   "id": "2da7b1fd",
   "metadata": {},
   "outputs": [],
   "source": [
    "# Data Encoding\n",
    "\n",
    "# convert timestamp column from object to datetime data type\n",
    "df['response_timestamp'] = pd.to_datetime(df['response_timestamp'])\n",
    "\n",
    "# encode the ordinal age column to labels\n",
    "age_ordinal_values = { 'Prefer not to answer': -1, '18 to 24 years': 1, '25 to 34 years': 2\n",
    "                      , '35 to 44 years': 3, '45 to 54 years': 4, '55 to 64 years': 5,\n",
    "                     '65+ years': 6}\n",
    "\n",
    "df['age_encoded'] = df['age'].map(age_ordinal_values)\n",
    "\n",
    "# encode the categorical feature learning column to one-hot encoding\n",
    "flm_one_hot_df = pd.get_dummies(data=df['feature_learn_method'], prefix='flm', dummy_na=True)\n",
    "\n",
    "df = pd.concat([df, flm_one_hot_df], axis=1)\n",
    "\n",
    "# encode the categorical phone type column to iPhone flag, question was required in survey so data cannot be blank\n",
    "def phone_type_mapping_func(ptype : str):\n",
    "    if ptype == 'Prefer not to answer':\n",
    "        return -1\n",
    "    elif ptype == 'Apple iPhone':\n",
    "        return 1\n",
    "    else:\n",
    "        return 0\n",
    "    \n",
    "df['iphone_flag'] = df['phone_type'].apply(phone_type_mapping_func)"
   ]
  },
  {
   "cell_type": "code",
   "execution_count": 9,
   "id": "fcacd0fd",
   "metadata": {},
   "outputs": [],
   "source": [
    "# coalesce the awareness and usage columns to one column for analysis\n",
    "# source: https://www.statology.org/pandas-coalesce/\n",
    "df['all_phone_feature_aware'] = df[['iphone_aware', 'samsung_aware', 'pixel_aware', 'other_aware']].bfill(axis=1).iloc[:, 0]\n",
    "df['all_phone_feature_usage'] = df[['iphone_usage', 'samsung_usage', 'pixel_usage', 'other_usage']].bfill(axis=1).iloc[:, 0]"
   ]
  },
  {
   "cell_type": "code",
   "execution_count": 11,
   "id": "921f2aa7",
   "metadata": {},
   "outputs": [
    {
     "name": "stdout",
     "output_type": "stream",
     "text": [
      "<class 'pandas.core.frame.DataFrame'>\n",
      "Int64Index: 353 entries, 0 to 353\n",
      "Data columns (total 52 columns):\n",
      " #   Column                              Non-Null Count  Dtype         \n",
      "---  ------                              --------------  -----         \n",
      " 0   ID                                  353 non-null    int64         \n",
      " 1   response_timestamp                  353 non-null    datetime64[ns]\n",
      " 2   age                                 353 non-null    object        \n",
      " 3   feature_learn_method                352 non-null    object        \n",
      " 4   autonomy_avgscore                   345 non-null    float64       \n",
      " 5   relatedness_avgscore                349 non-null    float64       \n",
      " 6   competence_avgscore                 351 non-null    float64       \n",
      " 7   pressured_to_use_more               348 non-null    float64       \n",
      " 8   spend_more_time_than_should         351 non-null    float64       \n",
      " 9   makes_me_do_unwanted_things         350 non-null    float64       \n",
      " 10  life_intrusive                      352 non-null    float64       \n",
      " 11  more_ability_insecurity             351 non-null    float64       \n",
      " 12  less_capable                        351 non-null    float64       \n",
      " 13  lowered_confidence                  351 non-null    float64       \n",
      " 14  belonging_to_community              352 non-null    float64       \n",
      " 15  close_connect_important_persons     352 non-null    float64       \n",
      " 16  close_to_some                       351 non-null    float64       \n",
      " 17  phone_type                          353 non-null    object        \n",
      " 18  awareness_flag                      353 non-null    int64         \n",
      " 19  awareness_count                     352 non-null    float64       \n",
      " 20  usage_flag                          353 non-null    int64         \n",
      " 21  usage_count                         352 non-null    float64       \n",
      " 22  others_want_me_use_external         338 non-null    float64       \n",
      " 23  expected_interesting_intrinsic      339 non-null    float64       \n",
      " 24  belief_life_improvement_identified  338 non-null    float64       \n",
      " 25  help_do_important_identified        340 non-null    float64       \n",
      " 26  others_know_usage_introjected       339 non-null    float64       \n",
      " 27  feel_bad_not_trying_introjected     337 non-null    float64       \n",
      " 28  expect_enjoyable_intrinsic          338 non-null    float64       \n",
      " 29  required_usage_external             339 non-null    float64       \n",
      " 30  be_of_value_life_identified         339 non-null    float64       \n",
      " 31  fun_to_use_intrinsic                337 non-null    float64       \n",
      " 32  pressure_usage_external             339 non-null    float64       \n",
      " 33  look_good_others_introjected        339 non-null    float64       \n",
      " 34  iphone_aware                        246 non-null    object        \n",
      " 35  iphone_usage                        204 non-null    object        \n",
      " 36  pixel_aware                         19 non-null     object        \n",
      " 37  pixel_usage                         14 non-null     object        \n",
      " 38  other_aware                         24 non-null     object        \n",
      " 39  other_usage                         18 non-null     object        \n",
      " 40  samsung_aware                       60 non-null     object        \n",
      " 41  samsung_usage                       38 non-null     object        \n",
      " 42  age_encoded                         353 non-null    int64         \n",
      " 43  flm_AnotherPerson                   353 non-null    uint8         \n",
      " 44  flm_CompanyEmail                    353 non-null    uint8         \n",
      " 45  flm_OrganicUsage                    353 non-null    uint8         \n",
      " 46  flm_Proactive                       353 non-null    uint8         \n",
      " 47  flm_SearchAfterUpdate               353 non-null    uint8         \n",
      " 48  flm_nan                             353 non-null    uint8         \n",
      " 49  iphone_flag                         353 non-null    int64         \n",
      " 50  all_phone_feature_aware             349 non-null    object        \n",
      " 51  all_phone_feature_usage             274 non-null    object        \n",
      "dtypes: datetime64[ns](1), float64(27), int64(5), object(13), uint8(6)\n",
      "memory usage: 131.7+ KB\n"
     ]
    }
   ],
   "source": [
    "df.info()"
   ]
  },
  {
   "cell_type": "code",
   "execution_count": 12,
   "id": "59fd452b",
   "metadata": {},
   "outputs": [
    {
     "data": {
      "text/plain": [
       "25 to 34 years          0.331445\n",
       "18 to 24 years          0.209632\n",
       "35 to 44 years          0.138810\n",
       "65+ years               0.127479\n",
       "45 to 54 years          0.093484\n",
       "55 to 64 years          0.087819\n",
       "Prefer not to answer    0.011331\n",
       "Name: age, dtype: float64"
      ]
     },
     "execution_count": 12,
     "metadata": {},
     "output_type": "execute_result"
    }
   ],
   "source": [
    "df['age'].value_counts(normalize=True)"
   ]
  },
  {
   "cell_type": "code",
   "execution_count": 14,
   "id": "b2c28734",
   "metadata": {},
   "outputs": [
    {
     "data": {
      "text/plain": [
       "25 to 34 years          117\n",
       "18 to 24 years           74\n",
       "35 to 44 years           49\n",
       "65+ years                45\n",
       "45 to 54 years           33\n",
       "55 to 64 years           31\n",
       "Prefer not to answer      4\n",
       "Name: age, dtype: int64"
      ]
     },
     "execution_count": 14,
     "metadata": {},
     "output_type": "execute_result"
    }
   ],
   "source": [
    "df['age'].value_counts()"
   ]
  },
  {
   "cell_type": "code",
   "execution_count": null,
   "id": "aef928ef",
   "metadata": {},
   "outputs": [],
   "source": []
  }
 ],
 "metadata": {
  "kernelspec": {
   "display_name": "Python 3 (ipykernel)",
   "language": "python",
   "name": "python3"
  },
  "language_info": {
   "codemirror_mode": {
    "name": "ipython",
    "version": 3
   },
   "file_extension": ".py",
   "mimetype": "text/x-python",
   "name": "python",
   "nbconvert_exporter": "python",
   "pygments_lexer": "ipython3",
   "version": "3.10.6"
  }
 },
 "nbformat": 4,
 "nbformat_minor": 5
}
